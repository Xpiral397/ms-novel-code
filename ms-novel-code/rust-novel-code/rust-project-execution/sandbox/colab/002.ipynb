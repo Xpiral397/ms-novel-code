{
  "cells": [
    {
      "cell_type": "markdown",
      "metadata": {
        "id": "hKe-t1pIOo2f"
      },
      "source": [
        "# Metadata\n",
        "# Metadata\n",
        "\n",
        "**L1 Taxonomy** - Problem Solving and Algorithms  \n",
        "**L2 Taxonomy** - Dynamic Programming  \n",
        "**Subtopic** - Counting ways to build game sets using rules  \n",
        "\n",
        "**Use Case** - In a magic card game, there are s kinds of cards like fire water or earth. Each kind has cards with numbers from 1 to n. Every number and kind has four of the same card. To win the game you must make a deck with 3 times t plus 2 cards. The deck must have t sets of 3 cards and one pair of 2 cards. A set of 3 cards can be a run of numbers like 4 5 6 with the same kind or 3 of the exact same card. A pair is 2 of the same card. We only count each group of cards once even if they can be arranged in more than one way. Let d be the number of different decks you can build. We are told d for small numbers like d of 4 1 1 is 20. You are asked to find d of 100000000 100000000 30 and give the answer after dividing by 1000000007 and taking the remainder.\n",
        "\n",
        "**Programming Language** - Rust  \n",
        "**Target Model** - o1  \n",
        "**Implementation Note** - Use Rust to build a smart way to count all the decks by following the rules and saving time with tricks from dynamic programming.\n"
      ]
    },
    {
      "cell_type": "markdown",
      "metadata": {
        "id": "oS0xHSaZoEJO"
      },
      "source": [
        "# Setup\n",
        "\n",
        "```toml\n",
        "serde = { version = \"1.0\", features = [\"derive\"] }\n",
        "serde_json = \"1.0\"\n",
        "\n",
        "```\n"
      ]
    },
    {
      "cell_type": "markdown",
      "metadata": {
        "id": "YToTLlRqOqmj"
      },
      "source": [
        "# Prompt\n",
        "\n"
      ]
    },
    {
      "cell_type": "markdown",
      "metadata": {
        "id": "q79gFg5DOtlN"
      },
      "source": [
        "# Requirements\n",
        "\n"
      ]
    },
    {
      "cell_type": "markdown",
      "metadata": {},
      "source": [
        "# main\n",
        "\n",
        "```rust\n",
        "use task_ws::add;\n",
        "\n",
        "fn main() {\n",
        "    let sum = add(2, 3);\n",
        "    println!(\"2 + 3 = {}\", sum);\n",
        "}\n",
        "\n",
        "\n",
        "````"
      ]
    },
    {
      "cell_type": "markdown",
      "metadata": {},
      "source": [
        "# lib\n",
        "\n",
        "```rust\n",
        "/// A tiny library: adds two numbers.\n",
        "pub fn add(a: i32, b: i32) -> i32 {\n",
        "    a + b\n",
        "}\n",
        "\n",
        "````"
      ]
    },
    {
      "cell_type": "markdown",
      "metadata": {},
      "source": [
        "# test\n",
        "```rust\n",
        "use task_ws::add;\n",
        "\n",
        "#[test]\n",
        "fn test_add_positive() {\n",
        "    assert_eq!(add(1, 2), 3);\n",
        "}\n",
        "\n",
        "````"
      ]
    },
    {
      "cell_type": "markdown",
      "metadata": {
        "id": "hxZs2ehLYWkm"
      },
      "source": [
        "# Model Breaking Proof\n",
        "\n",
        "#### Model Breaking Task URL:\n",
        "\n",
        "#### Model code:\n",
        "\n",
        "```python\n",
        "\n",
        "````"
      ]
    },
    {
      "cell_type": "code",
      "execution_count": null,
      "metadata": {
        "id": "-jV1ID83Egza"
      },
      "outputs": [],
      "source": []
    }
  ],
  "metadata": {
    "colab": {
      "provenance": []
    },
    "kernelspec": {
      "display_name": "Python 3",
      "name": "python3"
    },
    "language_info": {
      "name": "python"
    }
  },
  "nbformat": 4,
  "nbformat_minor": 0
}
